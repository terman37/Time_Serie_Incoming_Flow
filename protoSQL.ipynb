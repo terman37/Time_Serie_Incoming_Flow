{
 "cells": [
  {
   "cell_type": "code",
   "execution_count": 1,
   "metadata": {},
   "outputs": [],
   "source": [
    "import time\n",
    "t1 = time.time()"
   ]
  },
  {
   "cell_type": "code",
   "execution_count": 2,
   "metadata": {},
   "outputs": [],
   "source": [
    "# import matplotlib.pyplot as plt\n",
    "from datetime import date\n",
    "import pandas as pd\n",
    "import itertools\n",
    "import numpy as np\n",
    "import os\n",
    "\n",
    "from configparser import ConfigParser\n",
    "import pyodbc\n",
    "\n",
    "# import statsmodels as sm\n",
    "import pmdarima as pm\n",
    "# from pmdarima.model_selection import train_test_split\n",
    "# from sklearn.preprocessing import LabelBinarizer\n",
    "\n"
   ]
  },
  {
   "cell_type": "markdown",
   "metadata": {},
   "source": [
    "### Settings"
   ]
  },
  {
   "cell_type": "code",
   "execution_count": 3,
   "metadata": {},
   "outputs": [],
   "source": [
    "# Paths & Files\n",
    "db_conf_path = os.path.join(os.environ['USERPROFILE'],'db_connection.conf')\n",
    "\n",
    "# ML Settings\n",
    "# testsize = .05\n",
    "scale='B'                # Check if needed or hardcoded\n",
    "periods = 5              # Check if needed or hardcoded\n",
    "weighted_total = False\n",
    "prediction_length = 5\n",
    "\n",
    "# Data Settings\n",
    "myfilters = {'SITE':['VELIZY'],\n",
    "             'SERVICE_ACTIVITE':['PRESTATION','CONTRAT - COTISATION']}"
   ]
  },
  {
   "cell_type": "markdown",
   "metadata": {},
   "source": [
    "#### DB Connection"
   ]
  },
  {
   "cell_type": "code",
   "execution_count": 4,
   "metadata": {},
   "outputs": [],
   "source": [
    "def db_connection(db_conf):\n",
    "    config = ConfigParser()\n",
    "    config.read(db_conf_path)\n",
    "\n",
    "    srv_name = config['CONNECTION']['srv_name']\n",
    "    db_name = config['CONNECTION']['db_name']\n",
    "    drv = config['CONNECTION']['drv']\n",
    "    usr = config['CONNECTION']['usr']\n",
    "    pwd = config['CONNECTION']['pwd']\n",
    "\n",
    "    conn_str = 'DRIVER=%s; SERVER=%s;DATABASE=%s;UID=%s;PWD=%s' % (drv, srv_name, db_name, usr, pwd)\n",
    "    cnxn = pyodbc.connect(conn_str)\n",
    "    return cnxn"
   ]
  },
  {
   "cell_type": "markdown",
   "metadata": {},
   "source": [
    "#### Get Datas"
   ]
  },
  {
   "cell_type": "code",
   "execution_count": 5,
   "metadata": {},
   "outputs": [],
   "source": [
    "def get_datas(strsql):\n",
    "    with db_connection(db_conf_path) as conn:\n",
    "        result = pd.read_sql(sqlstr, conn)\n",
    "    return result"
   ]
  },
  {
   "cell_type": "markdown",
   "metadata": {},
   "source": [
    "#### Preprocess columns"
   ]
  },
  {
   "cell_type": "code",
   "execution_count": 6,
   "metadata": {},
   "outputs": [],
   "source": [
    "def preprocess_df(df,weighted):\n",
    "    if weighted:\n",
    "        df['TOTAL'] = df.TOTAL * df.COEFF\n",
    "    df = df.drop(columns=['COEFF'])\n",
    "    return df"
   ]
  },
  {
   "cell_type": "markdown",
   "metadata": {},
   "source": [
    "#### Create Aggregated Df with DateTime Index"
   ]
  },
  {
   "cell_type": "code",
   "execution_count": 7,
   "metadata": {},
   "outputs": [],
   "source": [
    "def aggregate_df(df):\n",
    "    df2 = df.groupby('DATEDATA').sum()\n",
    "    df2 = df2.asfreq(freq='B')\n",
    "    df2['TOTAL'].fillna(0,inplace=True)\n",
    "    df2=df2.resample(scale).sum()\n",
    "    return df2"
   ]
  },
  {
   "cell_type": "markdown",
   "metadata": {},
   "source": [
    "### Main Loop Iterate over filters"
   ]
  },
  {
   "cell_type": "code",
   "execution_count": 133,
   "metadata": {},
   "outputs": [],
   "source": [
    "# Generate loops variants\n",
    "myfilters = {'SITE':['VELIZY',],\n",
    "             'SERVICE_ACTIVITE':['PRESTATION','CONTRAT - COTISATION']}\n",
    "\n",
    "v_keys = list(myfilters.keys())\n",
    "v = list(myfilters.values())\n",
    "\n",
    "liste = list(itertools.product(*v))"
   ]
  },
  {
   "cell_type": "code",
   "execution_count": 135,
   "metadata": {},
   "outputs": [
    {
     "name": "stdout",
     "output_type": "stream",
     "text": [
      "('VELIZY', 'PRESTATION')\n",
      "                   PRED          LB           UB    SITE SERVICE_ACTIVITE  \\\n",
      "2020-06-30  1329.107073  585.366662  2072.847484  VELIZY       PRESTATION   \n",
      "2020-07-01  1331.768610  564.942669  2098.594550  VELIZY       PRESTATION   \n",
      "2020-07-02  1454.449926  684.157732  2224.742120  VELIZY       PRESTATION   \n",
      "2020-07-03  1369.283746  587.122055  2151.445438  VELIZY       PRESTATION   \n",
      "2020-07-06  1452.372691  663.700710  2241.044671  VELIZY       PRESTATION   \n",
      "\n",
      "            WEIGHTED    PREDDATE  \n",
      "2020-06-30     False  2020-07-02  \n",
      "2020-07-01     False  2020-07-02  \n",
      "2020-07-02     False  2020-07-02  \n",
      "2020-07-03     False  2020-07-02  \n",
      "2020-07-06     False  2020-07-02  \n",
      "('VELIZY', 'CONTRAT - COTISATION')\n",
      "                   PRED          LB           UB    SITE  \\\n",
      "2020-06-30  1329.107073  585.366662  2072.847484  VELIZY   \n",
      "2020-07-01  1331.768610  564.942669  2098.594550  VELIZY   \n",
      "2020-07-02  1454.449926  684.157732  2224.742120  VELIZY   \n",
      "2020-07-03  1369.283746  587.122055  2151.445438  VELIZY   \n",
      "2020-07-06  1452.372691  663.700710  2241.044671  VELIZY   \n",
      "\n",
      "                SERVICE_ACTIVITE  WEIGHTED    PREDDATE  \n",
      "2020-06-30  CONTRAT - COTISATION     False  2020-07-02  \n",
      "2020-07-01  CONTRAT - COTISATION     False  2020-07-02  \n",
      "2020-07-02  CONTRAT - COTISATION     False  2020-07-02  \n",
      "2020-07-03  CONTRAT - COTISATION     False  2020-07-02  \n",
      "2020-07-06  CONTRAT - COTISATION     False  2020-07-02  \n"
     ]
    }
   ],
   "source": [
    "strSQL_start = \"SELECT * FROM ML_IGE_ENTRANTS_DS1 \"\n",
    "\n",
    "for variant in liste:\n",
    "    print(variant)\n",
    "\n",
    "    # Generate SELECT query\n",
    "    strSQLW = \"WHERE \"\n",
    "    for i in range(len(variant)):\n",
    "        strSQLW += v_keys[i]\n",
    "        strSQLW += \"=\"\n",
    "        strSQLW += \"'\" + str(variant[i]) + \"'\"\n",
    "        strSQLW += ' AND '\n",
    "    strSQL = strSQL_start + strSQLW[:-5]\n",
    "    \n",
    "    # Get datas\n",
    "    df = get_datas(strSQL)\n",
    "    \n",
    "    # Prepare datas\n",
    "    df_pre = preprocess_df(df, weighted_total)\n",
    "    df_agg = aggregate_df(df_pre)\n",
    "    \n",
    "    # ARIMA Modeling\n",
    "    model = pm.auto_arima(df_agg, error_action='ignore', trace=False,\n",
    "                          suppress_warnings=True, maxiter=10,\n",
    "                          seasonal=True, m=periods)\n",
    "    preds, conf_int = model.predict(n_periods=prediction_length, return_conf_int=True)\n",
    "    \n",
    "    # Create Prediction dataframe to write in DB\n",
    "    idx=[]\n",
    "    for i in range(1,prediction_length+1):\n",
    "        nd = df_agg.index[-1]+pd.tseries.offsets.BDay(i)\n",
    "        idx.append(nd)\n",
    "    t=pd.DataFrame(np.concatenate((preds.reshape(-1,1),conf_int),axis=1),columns=['PRED','LB','UB'],index=idx)\n",
    "\n",
    "    for i in range(len(variant)):\n",
    "        t[v_keys[i]]=variant[i]\n",
    "    \n",
    "    t['WEIGHTED']=weighted_total\n",
    "    today = date.today()\n",
    "    d = today.strftime(\"%Y-%m-%d\")\n",
    "    t['PREDDATE']=d\n",
    "    \n",
    "    \n",
    "    # Create DELETE SQL string\n",
    "    strSQL = \"DELETE * FROM ML_IGE_ENTRANTS_PRED WHERE DATEPRED=\\'\" + d + \"\\'\"\n",
    "\n",
    "    # with db_connection(db_conf_path) as conn:\n",
    "    #     conn.execute(strSQL)\n",
    "    #     conn.commit()\n",
    "    \n",
    "    \n",
    "    # Create INSERT SQL string\n",
    "    strSQL = \"INSERT INTO ML_IGE_ENTRANTS_PRED (DATEDATA,PRED,LB,UB,SITE,SERVICE_ACTIVITE,WEIGHTED,DATEPRED) VALUES \"\n",
    "    values=\"\"\n",
    "    for idx, row in t.iterrows():\n",
    "        values += \"(\"\n",
    "        values += \"\\'\" + idx.strftime('%Y-%m-%d') + \"\\',\"\n",
    "        values += str(int(row.PRED)) + ','\n",
    "        values += str(int(row.LB)) + ','\n",
    "        values += str(int(row.UB)) + ','\n",
    "        values += row.SITE + ','\n",
    "        values += row.SERVICE_ACTIVITE + ','\n",
    "        values += str(int(row.WEIGHTED)) + ','\n",
    "        values += \"\\'\" + row.PREDDATE + \"\\'\"\n",
    "        values+='),'\n",
    "\n",
    "    strSQL += values\n",
    "    strSQL = strSQL[:-1]\n",
    "\n",
    "    # with db_connection(db_conf_path) as conn:\n",
    "    #     conn.execute(strSQL)\n",
    "    #     conn.commit()"
   ]
  },
  {
   "cell_type": "code",
   "execution_count": 136,
   "metadata": {},
   "outputs": [
    {
     "data": {
      "text/html": [
       "<div>\n",
       "<style scoped>\n",
       "    .dataframe tbody tr th:only-of-type {\n",
       "        vertical-align: middle;\n",
       "    }\n",
       "\n",
       "    .dataframe tbody tr th {\n",
       "        vertical-align: top;\n",
       "    }\n",
       "\n",
       "    .dataframe thead th {\n",
       "        text-align: right;\n",
       "    }\n",
       "</style>\n",
       "<table border=\"1\" class=\"dataframe\">\n",
       "  <thead>\n",
       "    <tr style=\"text-align: right;\">\n",
       "      <th></th>\n",
       "      <th>PRED</th>\n",
       "      <th>LB</th>\n",
       "      <th>UB</th>\n",
       "      <th>SITE</th>\n",
       "      <th>SERVICE_ACTIVITE</th>\n",
       "      <th>WEIGHTED</th>\n",
       "      <th>PREDDATE</th>\n",
       "    </tr>\n",
       "  </thead>\n",
       "  <tbody>\n",
       "    <tr>\n",
       "      <th>2020-06-30</th>\n",
       "      <td>1329.107073</td>\n",
       "      <td>585.366662</td>\n",
       "      <td>2072.847484</td>\n",
       "      <td>VELIZY</td>\n",
       "      <td>CONTRAT - COTISATION</td>\n",
       "      <td>False</td>\n",
       "      <td>2020-07-02</td>\n",
       "    </tr>\n",
       "    <tr>\n",
       "      <th>2020-07-01</th>\n",
       "      <td>1331.768610</td>\n",
       "      <td>564.942669</td>\n",
       "      <td>2098.594550</td>\n",
       "      <td>VELIZY</td>\n",
       "      <td>CONTRAT - COTISATION</td>\n",
       "      <td>False</td>\n",
       "      <td>2020-07-02</td>\n",
       "    </tr>\n",
       "    <tr>\n",
       "      <th>2020-07-02</th>\n",
       "      <td>1454.449926</td>\n",
       "      <td>684.157732</td>\n",
       "      <td>2224.742120</td>\n",
       "      <td>VELIZY</td>\n",
       "      <td>CONTRAT - COTISATION</td>\n",
       "      <td>False</td>\n",
       "      <td>2020-07-02</td>\n",
       "    </tr>\n",
       "    <tr>\n",
       "      <th>2020-07-03</th>\n",
       "      <td>1369.283746</td>\n",
       "      <td>587.122055</td>\n",
       "      <td>2151.445438</td>\n",
       "      <td>VELIZY</td>\n",
       "      <td>CONTRAT - COTISATION</td>\n",
       "      <td>False</td>\n",
       "      <td>2020-07-02</td>\n",
       "    </tr>\n",
       "    <tr>\n",
       "      <th>2020-07-06</th>\n",
       "      <td>1452.372691</td>\n",
       "      <td>663.700710</td>\n",
       "      <td>2241.044671</td>\n",
       "      <td>VELIZY</td>\n",
       "      <td>CONTRAT - COTISATION</td>\n",
       "      <td>False</td>\n",
       "      <td>2020-07-02</td>\n",
       "    </tr>\n",
       "  </tbody>\n",
       "</table>\n",
       "</div>"
      ],
      "text/plain": [
       "                   PRED          LB           UB    SITE  \\\n",
       "2020-06-30  1329.107073  585.366662  2072.847484  VELIZY   \n",
       "2020-07-01  1331.768610  564.942669  2098.594550  VELIZY   \n",
       "2020-07-02  1454.449926  684.157732  2224.742120  VELIZY   \n",
       "2020-07-03  1369.283746  587.122055  2151.445438  VELIZY   \n",
       "2020-07-06  1452.372691  663.700710  2241.044671  VELIZY   \n",
       "\n",
       "                SERVICE_ACTIVITE  WEIGHTED    PREDDATE  \n",
       "2020-06-30  CONTRAT - COTISATION     False  2020-07-02  \n",
       "2020-07-01  CONTRAT - COTISATION     False  2020-07-02  \n",
       "2020-07-02  CONTRAT - COTISATION     False  2020-07-02  \n",
       "2020-07-03  CONTRAT - COTISATION     False  2020-07-02  \n",
       "2020-07-06  CONTRAT - COTISATION     False  2020-07-02  "
      ]
     },
     "execution_count": 136,
     "metadata": {},
     "output_type": "execute_result"
    }
   ],
   "source": [
    "t"
   ]
  },
  {
   "cell_type": "code",
   "execution_count": 154,
   "metadata": {},
   "outputs": [
    {
     "data": {
      "text/html": [
       "<div>\n",
       "<style scoped>\n",
       "    .dataframe tbody tr th:only-of-type {\n",
       "        vertical-align: middle;\n",
       "    }\n",
       "\n",
       "    .dataframe tbody tr th {\n",
       "        vertical-align: top;\n",
       "    }\n",
       "\n",
       "    .dataframe thead th {\n",
       "        text-align: right;\n",
       "    }\n",
       "</style>\n",
       "<table border=\"1\" class=\"dataframe\">\n",
       "  <thead>\n",
       "    <tr style=\"text-align: right;\">\n",
       "      <th></th>\n",
       "      <th>DATEDATA</th>\n",
       "      <th>PRED</th>\n",
       "      <th>LB</th>\n",
       "      <th>UB</th>\n",
       "      <th>SITE</th>\n",
       "      <th>SERVICE_ACTIVITE</th>\n",
       "      <th>WEIGHTED</th>\n",
       "      <th>PREDDATE</th>\n",
       "    </tr>\n",
       "  </thead>\n",
       "  <tbody>\n",
       "    <tr>\n",
       "      <th>0</th>\n",
       "      <td>2020-06-30</td>\n",
       "      <td>1329.107073</td>\n",
       "      <td>585.366662</td>\n",
       "      <td>2072.847484</td>\n",
       "      <td>VELIZY</td>\n",
       "      <td>CONTRAT - COTISATION</td>\n",
       "      <td>False</td>\n",
       "      <td>2020-07-02</td>\n",
       "    </tr>\n",
       "    <tr>\n",
       "      <th>1</th>\n",
       "      <td>2020-07-01</td>\n",
       "      <td>1331.768610</td>\n",
       "      <td>564.942669</td>\n",
       "      <td>2098.594550</td>\n",
       "      <td>VELIZY</td>\n",
       "      <td>CONTRAT - COTISATION</td>\n",
       "      <td>False</td>\n",
       "      <td>2020-07-02</td>\n",
       "    </tr>\n",
       "    <tr>\n",
       "      <th>2</th>\n",
       "      <td>2020-07-02</td>\n",
       "      <td>1454.449926</td>\n",
       "      <td>684.157732</td>\n",
       "      <td>2224.742120</td>\n",
       "      <td>VELIZY</td>\n",
       "      <td>CONTRAT - COTISATION</td>\n",
       "      <td>False</td>\n",
       "      <td>2020-07-02</td>\n",
       "    </tr>\n",
       "    <tr>\n",
       "      <th>3</th>\n",
       "      <td>2020-07-03</td>\n",
       "      <td>1369.283746</td>\n",
       "      <td>587.122055</td>\n",
       "      <td>2151.445438</td>\n",
       "      <td>VELIZY</td>\n",
       "      <td>CONTRAT - COTISATION</td>\n",
       "      <td>False</td>\n",
       "      <td>2020-07-02</td>\n",
       "    </tr>\n",
       "    <tr>\n",
       "      <th>4</th>\n",
       "      <td>2020-07-06</td>\n",
       "      <td>1452.372691</td>\n",
       "      <td>663.700710</td>\n",
       "      <td>2241.044671</td>\n",
       "      <td>VELIZY</td>\n",
       "      <td>CONTRAT - COTISATION</td>\n",
       "      <td>False</td>\n",
       "      <td>2020-07-02</td>\n",
       "    </tr>\n",
       "  </tbody>\n",
       "</table>\n",
       "</div>"
      ],
      "text/plain": [
       "    DATEDATA         PRED          LB           UB    SITE  \\\n",
       "0 2020-06-30  1329.107073  585.366662  2072.847484  VELIZY   \n",
       "1 2020-07-01  1331.768610  564.942669  2098.594550  VELIZY   \n",
       "2 2020-07-02  1454.449926  684.157732  2224.742120  VELIZY   \n",
       "3 2020-07-03  1369.283746  587.122055  2151.445438  VELIZY   \n",
       "4 2020-07-06  1452.372691  663.700710  2241.044671  VELIZY   \n",
       "\n",
       "       SERVICE_ACTIVITE  WEIGHTED    PREDDATE  \n",
       "0  CONTRAT - COTISATION     False  2020-07-02  \n",
       "1  CONTRAT - COTISATION     False  2020-07-02  \n",
       "2  CONTRAT - COTISATION     False  2020-07-02  \n",
       "3  CONTRAT - COTISATION     False  2020-07-02  \n",
       "4  CONTRAT - COTISATION     False  2020-07-02  "
      ]
     },
     "execution_count": 154,
     "metadata": {},
     "output_type": "execute_result"
    }
   ],
   "source": [
    "tt"
   ]
  },
  {
   "cell_type": "code",
   "execution_count": 159,
   "metadata": {},
   "outputs": [
    {
     "name": "stdout",
     "output_type": "stream",
     "text": [
      "('DATEDATA', 'PRED', 'LB', 'UB', 'SITE', 'SERVICE_ACTIVITE', 'WEIGHTED', 'PREDDATE')\n"
     ]
    },
    {
     "data": {
      "text/plain": [
       "\"('2020-06-30', 1329.1070728441107, 585.3666617165704, 2072.847483971651, 'VELIZY', 'CONTRAT - COTISATION', False, '2020-07-02')\""
      ]
     },
     "execution_count": 159,
     "metadata": {},
     "output_type": "execute_result"
    }
   ],
   "source": [
    "tt = t.reset_index(level=0)\n",
    "tt.rename(columns={'index':'DATEDATA'},inplace=True)\n",
    "tt['DATEDATA'] = [x.strftime('%Y-%m-%d') for x in tt['DATEDATA']]\n",
    "print(tuple(list(tt.columns)))\n",
    "str(tuple(list(tt.iloc[0])))"
   ]
  },
  {
   "cell_type": "code",
   "execution_count": 160,
   "metadata": {},
   "outputs": [
    {
     "name": "stdout",
     "output_type": "stream",
     "text": [
      "('2020-06-30', 1329.1070728441107, 585.3666617165704, 2072.847483971651, 'VELIZY', 'CONTRAT - COTISATION', False, '2020-07-02')\n",
      "('2020-07-01', 1331.7686095505364, 564.9426693453175, 2098.5945497557555, 'VELIZY', 'CONTRAT - COTISATION', False, '2020-07-02')\n",
      "('2020-07-02', 1454.4499258901237, 684.157732259325, 2224.7421195209226, 'VELIZY', 'CONTRAT - COTISATION', False, '2020-07-02')\n",
      "('2020-07-03', 1369.2837462705838, 587.1220546158562, 2151.4454379253116, 'VELIZY', 'CONTRAT - COTISATION', False, '2020-07-02')\n",
      "('2020-07-06', 1452.3726906183256, 663.7007101422695, 2241.0446710943816, 'VELIZY', 'CONTRAT - COTISATION', False, '2020-07-02')\n"
     ]
    }
   ],
   "source": [
    "for idx,row in tt.iterrows():\n",
    "    print(tuple((row)))"
   ]
  },
  {
   "cell_type": "code",
   "execution_count": 9,
   "metadata": {},
   "outputs": [],
   "source": [
    "df = get_datas(sqlstr)\n",
    "# df"
   ]
  },
  {
   "cell_type": "code",
   "execution_count": 10,
   "metadata": {},
   "outputs": [],
   "source": [
    "df_pre = preprocess_df(df, weighted_total)\n",
    "# df_pre"
   ]
  },
  {
   "cell_type": "code",
   "execution_count": 11,
   "metadata": {},
   "outputs": [],
   "source": [
    "df_agg = aggregate_df(df_pre)\n",
    "# df_agg"
   ]
  },
  {
   "cell_type": "code",
   "execution_count": 12,
   "metadata": {},
   "outputs": [],
   "source": [
    "model = pm.auto_arima(df_agg, error_action='ignore', trace=False,\n",
    "                      suppress_warnings=True, maxiter=10,\n",
    "                      seasonal=True, m=periods)"
   ]
  },
  {
   "cell_type": "code",
   "execution_count": 13,
   "metadata": {},
   "outputs": [],
   "source": [
    "# print(model.order)\n",
    "# print(model.seasonal_order)\n",
    "# plt.rcParams['figure.figsize'] = [10, 10]\n",
    "# model.plot_diagnostics();"
   ]
  },
  {
   "cell_type": "code",
   "execution_count": 14,
   "metadata": {},
   "outputs": [],
   "source": [
    "preds, conf_int = model.predict(n_periods=prediction_length, return_conf_int=True)"
   ]
  },
  {
   "cell_type": "code",
   "execution_count": null,
   "metadata": {},
   "outputs": [],
   "source": []
  },
  {
   "cell_type": "code",
   "execution_count": 20,
   "metadata": {},
   "outputs": [],
   "source": [
    "# Create Prediction dataframe to write in DB\n",
    "idx=[]\n",
    "for i in range(1,prediction_length+1):\n",
    "    nd = df_agg.index[-1]+pd.tseries.offsets.BDay(i)\n",
    "    idx.append(nd)\n",
    "t=pd.DataFrame(np.concatenate((preds.reshape(-1,1),conf_int),axis=1),columns=['PRED','LB','UB'],index=idx)\n",
    "\n",
    "t['SITE']='VELIZY'                       # PARAMETER\n",
    "t['SERVICE_ACTIVITE']='PRESTATION'       # PARAMETER\n",
    "t['WEIGHTED']=weighted_total\n",
    "\n",
    "today = date.today()\n",
    "d = today.strftime(\"%Y-%m-%d\")\n",
    "t['PREDDATE']=d"
   ]
  },
  {
   "cell_type": "code",
   "execution_count": 161,
   "metadata": {},
   "outputs": [
    {
     "name": "stdout",
     "output_type": "stream",
     "text": [
      "             TOTAL\n",
      "DATEDATA          \n",
      "2018-08-01   743.0\n",
      "2018-08-02  1238.0\n",
      "2018-08-03  1050.0\n",
      "2018-08-06  1097.0\n",
      "2018-08-07  1171.0\n",
      "...            ...\n",
      "2020-06-23  1495.0\n",
      "2020-06-24  1077.0\n",
      "2020-06-25  1249.0\n",
      "2020-06-26  1425.0\n",
      "2020-06-29  1451.0\n",
      "\n",
      "[499 rows x 1 columns]\n"
     ]
    }
   ],
   "source": [
    "print(df_agg)"
   ]
  },
  {
   "cell_type": "code",
   "execution_count": 30,
   "metadata": {},
   "outputs": [],
   "source": [
    "# Delete predictions if existing\n",
    "strSQL = \"DELETE * FROM ML_IGE_ENTRANTS_PRED WHERE DATEPRED=\\'\" + d + \"\\'\"\n",
    "\n",
    "# with db_connection(db_conf_path) as conn:\n",
    "#     conn.execute(strSQL)\n",
    "#     conn.commit()"
   ]
  },
  {
   "cell_type": "code",
   "execution_count": 31,
   "metadata": {},
   "outputs": [
    {
     "data": {
      "text/plain": [
       "\"DELETE * FROM ML_IGE_ENTRANTS_PRED WHERE DATEPRED='2020-07-02'\""
      ]
     },
     "execution_count": 31,
     "metadata": {},
     "output_type": "execute_result"
    }
   ],
   "source": [
    "strSQL"
   ]
  },
  {
   "cell_type": "code",
   "execution_count": 22,
   "metadata": {},
   "outputs": [],
   "source": [
    "# Create INSERT SQL string\n",
    "\n",
    "strSQL = \"INSERT INTO ML_IGE_ENTRANTS_PRED (DATEDATA,PRED,LB,UB,SITE,SERVICE_ACTIVITE,WEIGHTED,DATEPRED) VALUES \"\n",
    "values=\"\"\n",
    "for idx, row in t.iterrows():\n",
    "    values += \"(\"\n",
    "    values += \"\\'\" + idx.strftime('%Y-%m-%d') + \"\\',\"\n",
    "    values += str(int(row.PRED)) + ','\n",
    "    values += str(int(row.LB)) + ','\n",
    "    values += str(int(row.UB)) + ','\n",
    "    values += row.SITE + ','\n",
    "    values += row.SERVICE_ACTIVITE + ','\n",
    "    values += str(int(row.WEIGHTED)) + ','\n",
    "    values += \"\\'\" + row.PREDDATE + \"\\'\"\n",
    "    values+='),'\n",
    "\n",
    "strSQL += values\n",
    "strSQL = strSQL[:-1]\n",
    "\n",
    "# with db_connection(db_conf_path) as conn:\n",
    "#     conn.execute(strSQL)\n",
    "#     conn.commit()"
   ]
  },
  {
   "cell_type": "code",
   "execution_count": 23,
   "metadata": {},
   "outputs": [
    {
     "data": {
      "text/plain": [
       "\"INSERT INTO ML_IGE_ENTRANTS_PRED (DATEDATA,PRED,LB,UB,SITE,SERVICE_ACTIVITE,WEIGHTED,DATEPRED) VALUES ('2020-06-30',1329,585,2072,VELIZY,PRESTATION,0,'2020-07-02'),('2020-07-01',1331,564,2098,VELIZY,PRESTATION,0,'2020-07-02'),('2020-07-02',1454,684,2224,VELIZY,PRESTATION,0,'2020-07-02'),('2020-07-03',1369,587,2151,VELIZY,PRESTATION,0,'2020-07-02'),('2020-07-06',1452,663,2241,VELIZY,PRESTATION,0,'2020-07-02')\""
      ]
     },
     "execution_count": 23,
     "metadata": {},
     "output_type": "execute_result"
    }
   ],
   "source": [
    "strSQL"
   ]
  },
  {
   "cell_type": "code",
   "execution_count": null,
   "metadata": {},
   "outputs": [],
   "source": []
  },
  {
   "cell_type": "code",
   "execution_count": null,
   "metadata": {},
   "outputs": [],
   "source": []
  },
  {
   "cell_type": "code",
   "execution_count": null,
   "metadata": {},
   "outputs": [],
   "source": []
  },
  {
   "cell_type": "code",
   "execution_count": null,
   "metadata": {},
   "outputs": [],
   "source": []
  },
  {
   "cell_type": "code",
   "execution_count": null,
   "metadata": {},
   "outputs": [],
   "source": []
  },
  {
   "cell_type": "code",
   "execution_count": null,
   "metadata": {},
   "outputs": [],
   "source": []
  },
  {
   "cell_type": "markdown",
   "metadata": {},
   "source": [
    "### Plot Result"
   ]
  },
  {
   "cell_type": "code",
   "execution_count": null,
   "metadata": {},
   "outputs": [],
   "source": [
    "graph = pd.DataFrame(test_endog.copy())\n",
    "graph = graph.rename(columns={'TOTAL':'TEST'})\n",
    "graph['preds'] = preds\n",
    "# graph['hwpreds'] = hwpreds\n",
    "graph['lb'] = conf_int[:,0]\n",
    "graph['ub'] = conf_int[:,1]\n",
    "graph = graph.append(pd.DataFrame(train_endog))"
   ]
  },
  {
   "cell_type": "code",
   "execution_count": null,
   "metadata": {},
   "outputs": [],
   "source": [
    "graphz = graph[graph.index>'2020-01-01']"
   ]
  },
  {
   "cell_type": "code",
   "execution_count": null,
   "metadata": {},
   "outputs": [],
   "source": [
    "plt.rcParams['figure.figsize'] = [15, 10]\n",
    "g1 = plt.plot(graphz.index, graphz.TOTAL, label='Train')\n",
    "g2 = plt.plot(graphz.index, graphz.TEST,'c--', label='Test')\n",
    "g3 = plt.plot(graphz.index, graphz.preds,'r', label='Pred',linewidth=2, alpha=.5)\n",
    "# g3b = plt.plot(graphz.index, graphz.hwpreds,'g', label='Pred',linewidth=2)\n",
    "g4 = plt.fill_between(graphz.index,graphz.lb,graphz.ub,color='r',alpha=.1, label='C.I.')\n",
    "plt.legend(loc='upper left')\n",
    "plt.title('Actual test samples vs. forecasts')\n",
    "plt.show()"
   ]
  },
  {
   "cell_type": "code",
   "execution_count": null,
   "metadata": {},
   "outputs": [],
   "source": [
    "graphz"
   ]
  },
  {
   "cell_type": "code",
   "execution_count": null,
   "metadata": {},
   "outputs": [],
   "source": [
    "t2 = time.time()\n",
    "\n",
    "print('Total Run time: %i secs' % (t2-t1))"
   ]
  },
  {
   "cell_type": "code",
   "execution_count": null,
   "metadata": {},
   "outputs": [],
   "source": []
  }
 ],
 "metadata": {
  "kernelspec": {
   "display_name": "time-serie",
   "language": "python",
   "name": "time-serie"
  },
  "language_info": {
   "codemirror_mode": {
    "name": "ipython",
    "version": 3
   },
   "file_extension": ".py",
   "mimetype": "text/x-python",
   "name": "python",
   "nbconvert_exporter": "python",
   "pygments_lexer": "ipython3",
   "version": "3.7.7"
  }
 },
 "nbformat": 4,
 "nbformat_minor": 4
}
