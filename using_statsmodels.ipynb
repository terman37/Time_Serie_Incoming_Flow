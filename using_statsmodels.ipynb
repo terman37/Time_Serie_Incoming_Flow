{
 "cells": [
  {
   "cell_type": "code",
   "execution_count": 1,
   "metadata": {},
   "outputs": [],
   "source": [
    "import matplotlib.pyplot as plt\n",
    "import pandas as pd\n",
    "import statsmodels as sm"
   ]
  },
  {
   "cell_type": "markdown",
   "metadata": {},
   "source": [
    "### Import csv"
   ]
  },
  {
   "cell_type": "code",
   "execution_count": 12,
   "metadata": {},
   "outputs": [],
   "source": [
    "filename = './data/ML_IGE_ENTRANTS_MODELE1.csv'"
   ]
  },
  {
   "cell_type": "code",
   "execution_count": 13,
   "metadata": {},
   "outputs": [],
   "source": [
    "df = pd.read_csv(filename,sep=';',engine='python',index_col='DATEDATA',parse_dates=True)"
   ]
  },
  {
   "cell_type": "code",
   "execution_count": 14,
   "metadata": {},
   "outputs": [
    {
     "data": {
      "text/html": [
       "<div>\n",
       "<style scoped>\n",
       "    .dataframe tbody tr th:only-of-type {\n",
       "        vertical-align: middle;\n",
       "    }\n",
       "\n",
       "    .dataframe tbody tr th {\n",
       "        vertical-align: top;\n",
       "    }\n",
       "\n",
       "    .dataframe thead th {\n",
       "        text-align: right;\n",
       "    }\n",
       "</style>\n",
       "<table border=\"1\" class=\"dataframe\">\n",
       "  <thead>\n",
       "    <tr style=\"text-align: right;\">\n",
       "      <th></th>\n",
       "      <th>SITE</th>\n",
       "      <th>CLIENT</th>\n",
       "      <th>FLUX_ACTIVITE</th>\n",
       "      <th>SECTEUR_ACTIVITE</th>\n",
       "      <th>SERVICE_ACTIVITE</th>\n",
       "      <th>MEDIA</th>\n",
       "      <th>TYPEDOSSIER</th>\n",
       "      <th>REGROUPEMENTTDB</th>\n",
       "      <th>TOTAL</th>\n",
       "    </tr>\n",
       "    <tr>\n",
       "      <th>DATEDATA</th>\n",
       "      <th></th>\n",
       "      <th></th>\n",
       "      <th></th>\n",
       "      <th></th>\n",
       "      <th></th>\n",
       "      <th></th>\n",
       "      <th></th>\n",
       "      <th></th>\n",
       "      <th></th>\n",
       "    </tr>\n",
       "  </thead>\n",
       "  <tbody>\n",
       "    <tr>\n",
       "      <th>2019-09-18</th>\n",
       "      <td>COURBEVOIE</td>\n",
       "      <td>BCAC</td>\n",
       "      <td>Flux Décès</td>\n",
       "      <td>Prévoyance</td>\n",
       "      <td>PREVOYANCE</td>\n",
       "      <td>Email</td>\n",
       "      <td>Ouverture dossier Décès</td>\n",
       "      <td>Dossiers Prévoyance</td>\n",
       "      <td>4</td>\n",
       "    </tr>\n",
       "    <tr>\n",
       "      <th>2019-12-02</th>\n",
       "      <td>COURBEVOIE</td>\n",
       "      <td>BCAC</td>\n",
       "      <td>Flux Prestation</td>\n",
       "      <td>Prestations</td>\n",
       "      <td>PRESTATION</td>\n",
       "      <td>LR/AR</td>\n",
       "      <td>Prestations</td>\n",
       "      <td>Dossiers Prestations</td>\n",
       "      <td>4</td>\n",
       "    </tr>\n",
       "    <tr>\n",
       "      <th>2020-01-06</th>\n",
       "      <td>MARSEILLE</td>\n",
       "      <td>ISTYACO GESTION</td>\n",
       "      <td>Flux Noemie</td>\n",
       "      <td>EDI</td>\n",
       "      <td>CONTRAT - COTISATION</td>\n",
       "      <td>Appel</td>\n",
       "      <td>Echanges Noémie</td>\n",
       "      <td>Dossiers EDI</td>\n",
       "      <td>2</td>\n",
       "    </tr>\n",
       "    <tr>\n",
       "      <th>2019-08-29</th>\n",
       "      <td>MARSEILLE</td>\n",
       "      <td>ISTYACO GESTION</td>\n",
       "      <td>Flux Devis</td>\n",
       "      <td>Prestations</td>\n",
       "      <td>PRESTATION</td>\n",
       "      <td>Courrier</td>\n",
       "      <td>Devis dentaire</td>\n",
       "      <td>Dossiers Devis</td>\n",
       "      <td>4</td>\n",
       "    </tr>\n",
       "    <tr>\n",
       "      <th>2018-08-07</th>\n",
       "      <td>VELIZY</td>\n",
       "      <td>KLESIA PREVOYANCE</td>\n",
       "      <td>Flux Cotisation</td>\n",
       "      <td>Contrats- Cotisations</td>\n",
       "      <td>CONTRAT - COTISATION</td>\n",
       "      <td>Appel</td>\n",
       "      <td>Cotisations individuelles</td>\n",
       "      <td>Dossiers Cotisations</td>\n",
       "      <td>1</td>\n",
       "    </tr>\n",
       "  </tbody>\n",
       "</table>\n",
       "</div>"
      ],
      "text/plain": [
       "                       SITE             CLIENT    FLUX_ACTIVITE  \\\n",
       "DATEDATA                                                          \n",
       "2019-09-18  COURBEVOIE                    BCAC       Flux Décès   \n",
       "2019-12-02  COURBEVOIE                    BCAC  Flux Prestation   \n",
       "2020-01-06  MARSEILLE          ISTYACO GESTION      Flux Noemie   \n",
       "2019-08-29  MARSEILLE          ISTYACO GESTION       Flux Devis   \n",
       "2018-08-07  VELIZY           KLESIA PREVOYANCE  Flux Cotisation   \n",
       "\n",
       "                 SECTEUR_ACTIVITE      SERVICE_ACTIVITE     MEDIA  \\\n",
       "DATEDATA                                                            \n",
       "2019-09-18             Prévoyance            PREVOYANCE     Email   \n",
       "2019-12-02            Prestations            PRESTATION     LR/AR   \n",
       "2020-01-06                    EDI  CONTRAT - COTISATION     Appel   \n",
       "2019-08-29            Prestations            PRESTATION  Courrier   \n",
       "2018-08-07  Contrats- Cotisations  CONTRAT - COTISATION     Appel   \n",
       "\n",
       "                          TYPEDOSSIER       REGROUPEMENTTDB  TOTAL  \n",
       "DATEDATA                                                            \n",
       "2019-09-18    Ouverture dossier Décès   Dossiers Prévoyance      4  \n",
       "2019-12-02                Prestations  Dossiers Prestations      4  \n",
       "2020-01-06            Echanges Noémie          Dossiers EDI      2  \n",
       "2019-08-29             Devis dentaire        Dossiers Devis      4  \n",
       "2018-08-07  Cotisations individuelles  Dossiers Cotisations      1  "
      ]
     },
     "execution_count": 14,
     "metadata": {},
     "output_type": "execute_result"
    }
   ],
   "source": [
    "df.head()"
   ]
  },
  {
   "cell_type": "code",
   "execution_count": 7,
   "metadata": {},
   "outputs": [
    {
     "name": "stdout",
     "output_type": "stream",
     "text": [
      "<class 'pandas.core.frame.DataFrame'>\n",
      "RangeIndex: 378795 entries, 0 to 378794\n",
      "Data columns (total 10 columns):\n",
      " #   Column            Non-Null Count   Dtype \n",
      "---  ------            --------------   ----- \n",
      " 0   SITE              378795 non-null  object\n",
      " 1   DATEDATA          378795 non-null  object\n",
      " 2   CLIENT            378787 non-null  object\n",
      " 3   FLUX_ACTIVITE     378795 non-null  object\n",
      " 4   SECTEUR_ACTIVITE  378795 non-null  object\n",
      " 5   SERVICE_ACTIVITE  378795 non-null  object\n",
      " 6   MEDIA             335016 non-null  object\n",
      " 7   TYPEDOSSIER       378795 non-null  object\n",
      " 8   REGROUPEMENTTDB   378795 non-null  object\n",
      " 9   TOTAL             378795 non-null  int64 \n",
      "dtypes: int64(1), object(9)\n",
      "memory usage: 28.9+ MB\n"
     ]
    }
   ],
   "source": [
    "df.info()"
   ]
  },
  {
   "cell_type": "markdown",
   "metadata": {},
   "source": [
    "### preprocess columns"
   ]
  },
  {
   "cell_type": "code",
   "execution_count": 18,
   "metadata": {},
   "outputs": [],
   "source": [
    "df = df.apply(lambda x: x.str.strip() if x.dtype == \"object\" else x)"
   ]
  },
  {
   "cell_type": "code",
   "execution_count": 19,
   "metadata": {},
   "outputs": [
    {
     "data": {
      "text/html": [
       "<div>\n",
       "<style scoped>\n",
       "    .dataframe tbody tr th:only-of-type {\n",
       "        vertical-align: middle;\n",
       "    }\n",
       "\n",
       "    .dataframe tbody tr th {\n",
       "        vertical-align: top;\n",
       "    }\n",
       "\n",
       "    .dataframe thead th {\n",
       "        text-align: right;\n",
       "    }\n",
       "</style>\n",
       "<table border=\"1\" class=\"dataframe\">\n",
       "  <thead>\n",
       "    <tr style=\"text-align: right;\">\n",
       "      <th></th>\n",
       "      <th>SITE</th>\n",
       "      <th>CLIENT</th>\n",
       "      <th>FLUX_ACTIVITE</th>\n",
       "      <th>SECTEUR_ACTIVITE</th>\n",
       "      <th>SERVICE_ACTIVITE</th>\n",
       "      <th>MEDIA</th>\n",
       "      <th>TYPEDOSSIER</th>\n",
       "      <th>REGROUPEMENTTDB</th>\n",
       "      <th>TOTAL</th>\n",
       "    </tr>\n",
       "    <tr>\n",
       "      <th>DATEDATA</th>\n",
       "      <th></th>\n",
       "      <th></th>\n",
       "      <th></th>\n",
       "      <th></th>\n",
       "      <th></th>\n",
       "      <th></th>\n",
       "      <th></th>\n",
       "      <th></th>\n",
       "      <th></th>\n",
       "    </tr>\n",
       "  </thead>\n",
       "  <tbody>\n",
       "    <tr>\n",
       "      <th>2019-09-18</th>\n",
       "      <td>COURBEVOIE</td>\n",
       "      <td>BCAC</td>\n",
       "      <td>Flux Décès</td>\n",
       "      <td>Prévoyance</td>\n",
       "      <td>PREVOYANCE</td>\n",
       "      <td>Email</td>\n",
       "      <td>Ouverture dossier Décès</td>\n",
       "      <td>Dossiers Prévoyance</td>\n",
       "      <td>4</td>\n",
       "    </tr>\n",
       "    <tr>\n",
       "      <th>2019-12-02</th>\n",
       "      <td>COURBEVOIE</td>\n",
       "      <td>BCAC</td>\n",
       "      <td>Flux Prestation</td>\n",
       "      <td>Prestations</td>\n",
       "      <td>PRESTATION</td>\n",
       "      <td>LR/AR</td>\n",
       "      <td>Prestations</td>\n",
       "      <td>Dossiers Prestations</td>\n",
       "      <td>4</td>\n",
       "    </tr>\n",
       "    <tr>\n",
       "      <th>2020-01-06</th>\n",
       "      <td>MARSEILLE</td>\n",
       "      <td>ISTYACO GESTION</td>\n",
       "      <td>Flux Noemie</td>\n",
       "      <td>EDI</td>\n",
       "      <td>CONTRAT - COTISATION</td>\n",
       "      <td>Appel</td>\n",
       "      <td>Echanges Noémie</td>\n",
       "      <td>Dossiers EDI</td>\n",
       "      <td>2</td>\n",
       "    </tr>\n",
       "    <tr>\n",
       "      <th>2019-08-29</th>\n",
       "      <td>MARSEILLE</td>\n",
       "      <td>ISTYACO GESTION</td>\n",
       "      <td>Flux Devis</td>\n",
       "      <td>Prestations</td>\n",
       "      <td>PRESTATION</td>\n",
       "      <td>Courrier</td>\n",
       "      <td>Devis dentaire</td>\n",
       "      <td>Dossiers Devis</td>\n",
       "      <td>4</td>\n",
       "    </tr>\n",
       "    <tr>\n",
       "      <th>2018-08-07</th>\n",
       "      <td>VELIZY</td>\n",
       "      <td>KLESIA PREVOYANCE</td>\n",
       "      <td>Flux Cotisation</td>\n",
       "      <td>Contrats- Cotisations</td>\n",
       "      <td>CONTRAT - COTISATION</td>\n",
       "      <td>Appel</td>\n",
       "      <td>Cotisations individuelles</td>\n",
       "      <td>Dossiers Cotisations</td>\n",
       "      <td>1</td>\n",
       "    </tr>\n",
       "  </tbody>\n",
       "</table>\n",
       "</div>"
      ],
      "text/plain": [
       "                  SITE             CLIENT    FLUX_ACTIVITE  \\\n",
       "DATEDATA                                                     \n",
       "2019-09-18  COURBEVOIE               BCAC       Flux Décès   \n",
       "2019-12-02  COURBEVOIE               BCAC  Flux Prestation   \n",
       "2020-01-06   MARSEILLE    ISTYACO GESTION      Flux Noemie   \n",
       "2019-08-29   MARSEILLE    ISTYACO GESTION       Flux Devis   \n",
       "2018-08-07      VELIZY  KLESIA PREVOYANCE  Flux Cotisation   \n",
       "\n",
       "                 SECTEUR_ACTIVITE      SERVICE_ACTIVITE     MEDIA  \\\n",
       "DATEDATA                                                            \n",
       "2019-09-18             Prévoyance            PREVOYANCE     Email   \n",
       "2019-12-02            Prestations            PRESTATION     LR/AR   \n",
       "2020-01-06                    EDI  CONTRAT - COTISATION     Appel   \n",
       "2019-08-29            Prestations            PRESTATION  Courrier   \n",
       "2018-08-07  Contrats- Cotisations  CONTRAT - COTISATION     Appel   \n",
       "\n",
       "                          TYPEDOSSIER       REGROUPEMENTTDB  TOTAL  \n",
       "DATEDATA                                                            \n",
       "2019-09-18    Ouverture dossier Décès   Dossiers Prévoyance      4  \n",
       "2019-12-02                Prestations  Dossiers Prestations      4  \n",
       "2020-01-06            Echanges Noémie          Dossiers EDI      2  \n",
       "2019-08-29             Devis dentaire        Dossiers Devis      4  \n",
       "2018-08-07  Cotisations individuelles  Dossiers Cotisations      1  "
      ]
     },
     "execution_count": 19,
     "metadata": {},
     "output_type": "execute_result"
    }
   ],
   "source": [
    "df.head()"
   ]
  },
  {
   "cell_type": "markdown",
   "metadata": {},
   "source": [
    "### Filter"
   ]
  },
  {
   "cell_type": "code",
   "execution_count": 34,
   "metadata": {},
   "outputs": [],
   "source": [
    "def filter_df(df, mydict):\n",
    "    df_filter = df.copy()\n",
    "    for key,value in mydict.items():\n",
    "        df_filter = df_filter[df_filter[key]==value]\n",
    "    return df_filter\n",
    "    \n",
    "    \n",
    "myfilters = {'SITE':'VELIZY','MEDIA':'Email'}\n",
    "df_filter = filter_df(df, myfilters)\n"
   ]
  },
  {
   "cell_type": "code",
   "execution_count": 35,
   "metadata": {},
   "outputs": [
    {
     "data": {
      "text/html": [
       "<div>\n",
       "<style scoped>\n",
       "    .dataframe tbody tr th:only-of-type {\n",
       "        vertical-align: middle;\n",
       "    }\n",
       "\n",
       "    .dataframe tbody tr th {\n",
       "        vertical-align: top;\n",
       "    }\n",
       "\n",
       "    .dataframe thead th {\n",
       "        text-align: right;\n",
       "    }\n",
       "</style>\n",
       "<table border=\"1\" class=\"dataframe\">\n",
       "  <thead>\n",
       "    <tr style=\"text-align: right;\">\n",
       "      <th></th>\n",
       "      <th>SITE</th>\n",
       "      <th>CLIENT</th>\n",
       "      <th>FLUX_ACTIVITE</th>\n",
       "      <th>SECTEUR_ACTIVITE</th>\n",
       "      <th>SERVICE_ACTIVITE</th>\n",
       "      <th>MEDIA</th>\n",
       "      <th>TYPEDOSSIER</th>\n",
       "      <th>REGROUPEMENTTDB</th>\n",
       "      <th>TOTAL</th>\n",
       "    </tr>\n",
       "    <tr>\n",
       "      <th>DATEDATA</th>\n",
       "      <th></th>\n",
       "      <th></th>\n",
       "      <th></th>\n",
       "      <th></th>\n",
       "      <th></th>\n",
       "      <th></th>\n",
       "      <th></th>\n",
       "      <th></th>\n",
       "      <th></th>\n",
       "    </tr>\n",
       "  </thead>\n",
       "  <tbody>\n",
       "    <tr>\n",
       "      <th>2019-02-06</th>\n",
       "      <td>VELIZY</td>\n",
       "      <td>KLESIA - MUTUELLE GEODIS</td>\n",
       "      <td>Flux BAE-BIA</td>\n",
       "      <td>Contrats- Cotisations</td>\n",
       "      <td>CONTRAT - COTISATION</td>\n",
       "      <td>Email</td>\n",
       "      <td>Adhésion - Portabilité</td>\n",
       "      <td>Dossiers Contractuels</td>\n",
       "      <td>3</td>\n",
       "    </tr>\n",
       "    <tr>\n",
       "      <th>2019-09-30</th>\n",
       "      <td>VELIZY</td>\n",
       "      <td>KLESIA PREVOYANCE</td>\n",
       "      <td>Flux Prestation</td>\n",
       "      <td>Prestations</td>\n",
       "      <td>PRESTATION</td>\n",
       "      <td>Email</td>\n",
       "      <td>Factures Optiques</td>\n",
       "      <td>Dossiers Prestations</td>\n",
       "      <td>2</td>\n",
       "    </tr>\n",
       "    <tr>\n",
       "      <th>2019-03-27</th>\n",
       "      <td>VELIZY</td>\n",
       "      <td>K2 - MUTUELLE DE NATIXIS</td>\n",
       "      <td>Flux Administratif</td>\n",
       "      <td>Contrats- Cotisations</td>\n",
       "      <td>CONTRAT - COTISATION</td>\n",
       "      <td>Email</td>\n",
       "      <td>Modification fichiers</td>\n",
       "      <td>Dossiers Administratifs</td>\n",
       "      <td>1</td>\n",
       "    </tr>\n",
       "    <tr>\n",
       "      <th>2019-02-28</th>\n",
       "      <td>VELIZY</td>\n",
       "      <td>KLESIA - CARCEPT PREVOYANCE</td>\n",
       "      <td>Flux Administratif</td>\n",
       "      <td>Contrats- Cotisations</td>\n",
       "      <td>CONTRAT - COTISATION</td>\n",
       "      <td>Email</td>\n",
       "      <td>Modification de contrat entreprise</td>\n",
       "      <td>Dossiers Administratifs</td>\n",
       "      <td>2</td>\n",
       "    </tr>\n",
       "    <tr>\n",
       "      <th>2018-09-11</th>\n",
       "      <td>VELIZY</td>\n",
       "      <td>K2 - MUTUELLE FAMILIALE DES CHEMINOTS DE FRANCE</td>\n",
       "      <td>Flux E/S</td>\n",
       "      <td>Contrats- Cotisations</td>\n",
       "      <td>CONTRAT - COTISATION</td>\n",
       "      <td>Email</td>\n",
       "      <td>Décès</td>\n",
       "      <td>Dossiers Prévoyance</td>\n",
       "      <td>1</td>\n",
       "    </tr>\n",
       "    <tr>\n",
       "      <th>...</th>\n",
       "      <td>...</td>\n",
       "      <td>...</td>\n",
       "      <td>...</td>\n",
       "      <td>...</td>\n",
       "      <td>...</td>\n",
       "      <td>...</td>\n",
       "      <td>...</td>\n",
       "      <td>...</td>\n",
       "      <td>...</td>\n",
       "    </tr>\n",
       "    <tr>\n",
       "      <th>2019-06-27</th>\n",
       "      <td>VELIZY</td>\n",
       "      <td>K2 - MUTUELLE FAMILIALE DES CHEMINOTS DE FRANCE</td>\n",
       "      <td>Flux Prestation</td>\n",
       "      <td>Prestations</td>\n",
       "      <td>PRESTATION</td>\n",
       "      <td>Email</td>\n",
       "      <td>Prestations</td>\n",
       "      <td>Dossiers Prestations</td>\n",
       "      <td>38</td>\n",
       "    </tr>\n",
       "    <tr>\n",
       "      <th>2019-08-30</th>\n",
       "      <td>VELIZY</td>\n",
       "      <td>K2 - MUTUELLE DE PONTOISE</td>\n",
       "      <td>Flux Devis</td>\n",
       "      <td>Prestations</td>\n",
       "      <td>PRESTATION</td>\n",
       "      <td>Email</td>\n",
       "      <td>Devis dentaire</td>\n",
       "      <td>Dossiers Devis</td>\n",
       "      <td>1</td>\n",
       "    </tr>\n",
       "    <tr>\n",
       "      <th>2019-10-24</th>\n",
       "      <td>VELIZY</td>\n",
       "      <td>KLESIA - CARCEPT PREVOYANCE</td>\n",
       "      <td>Flux Administratif</td>\n",
       "      <td>Contrats- Cotisations</td>\n",
       "      <td>CONTRAT - COTISATION</td>\n",
       "      <td>Email</td>\n",
       "      <td>Attestation SS</td>\n",
       "      <td>Dossiers EDI</td>\n",
       "      <td>3</td>\n",
       "    </tr>\n",
       "    <tr>\n",
       "      <th>2018-09-12</th>\n",
       "      <td>VELIZY</td>\n",
       "      <td>K2 - UNION NAT DE LA PREV DE LA MUTUALITE FRAN...</td>\n",
       "      <td>Flux Devis</td>\n",
       "      <td>Prestations</td>\n",
       "      <td>PRESTATION</td>\n",
       "      <td>Email</td>\n",
       "      <td>Devis dentaire</td>\n",
       "      <td>Dossiers Devis</td>\n",
       "      <td>1</td>\n",
       "    </tr>\n",
       "    <tr>\n",
       "      <th>2020-05-22</th>\n",
       "      <td>VELIZY</td>\n",
       "      <td>KLESIA - MUTUELLE GEODIS</td>\n",
       "      <td>Flux Administratif</td>\n",
       "      <td>Contrats- Cotisations</td>\n",
       "      <td>CONTRAT - COTISATION</td>\n",
       "      <td>Email</td>\n",
       "      <td>Attestation SS</td>\n",
       "      <td>Dossiers EDI</td>\n",
       "      <td>1</td>\n",
       "    </tr>\n",
       "  </tbody>\n",
       "</table>\n",
       "<p>62955 rows × 9 columns</p>\n",
       "</div>"
      ],
      "text/plain": [
       "              SITE                                             CLIENT  \\\n",
       "DATEDATA                                                                \n",
       "2019-02-06  VELIZY                           KLESIA - MUTUELLE GEODIS   \n",
       "2019-09-30  VELIZY                                  KLESIA PREVOYANCE   \n",
       "2019-03-27  VELIZY                           K2 - MUTUELLE DE NATIXIS   \n",
       "2019-02-28  VELIZY                        KLESIA - CARCEPT PREVOYANCE   \n",
       "2018-09-11  VELIZY    K2 - MUTUELLE FAMILIALE DES CHEMINOTS DE FRANCE   \n",
       "...            ...                                                ...   \n",
       "2019-06-27  VELIZY    K2 - MUTUELLE FAMILIALE DES CHEMINOTS DE FRANCE   \n",
       "2019-08-30  VELIZY                          K2 - MUTUELLE DE PONTOISE   \n",
       "2019-10-24  VELIZY                        KLESIA - CARCEPT PREVOYANCE   \n",
       "2018-09-12  VELIZY  K2 - UNION NAT DE LA PREV DE LA MUTUALITE FRAN...   \n",
       "2020-05-22  VELIZY                           KLESIA - MUTUELLE GEODIS   \n",
       "\n",
       "                 FLUX_ACTIVITE       SECTEUR_ACTIVITE      SERVICE_ACTIVITE  \\\n",
       "DATEDATA                                                                      \n",
       "2019-02-06        Flux BAE-BIA  Contrats- Cotisations  CONTRAT - COTISATION   \n",
       "2019-09-30     Flux Prestation            Prestations            PRESTATION   \n",
       "2019-03-27  Flux Administratif  Contrats- Cotisations  CONTRAT - COTISATION   \n",
       "2019-02-28  Flux Administratif  Contrats- Cotisations  CONTRAT - COTISATION   \n",
       "2018-09-11            Flux E/S  Contrats- Cotisations  CONTRAT - COTISATION   \n",
       "...                        ...                    ...                   ...   \n",
       "2019-06-27     Flux Prestation            Prestations            PRESTATION   \n",
       "2019-08-30          Flux Devis            Prestations            PRESTATION   \n",
       "2019-10-24  Flux Administratif  Contrats- Cotisations  CONTRAT - COTISATION   \n",
       "2018-09-12          Flux Devis            Prestations            PRESTATION   \n",
       "2020-05-22  Flux Administratif  Contrats- Cotisations  CONTRAT - COTISATION   \n",
       "\n",
       "            MEDIA                         TYPEDOSSIER  \\\n",
       "DATEDATA                                                \n",
       "2019-02-06  Email              Adhésion - Portabilité   \n",
       "2019-09-30  Email                   Factures Optiques   \n",
       "2019-03-27  Email               Modification fichiers   \n",
       "2019-02-28  Email  Modification de contrat entreprise   \n",
       "2018-09-11  Email                               Décès   \n",
       "...           ...                                 ...   \n",
       "2019-06-27  Email                         Prestations   \n",
       "2019-08-30  Email                      Devis dentaire   \n",
       "2019-10-24  Email                      Attestation SS   \n",
       "2018-09-12  Email                      Devis dentaire   \n",
       "2020-05-22  Email                      Attestation SS   \n",
       "\n",
       "                    REGROUPEMENTTDB  TOTAL  \n",
       "DATEDATA                                    \n",
       "2019-02-06    Dossiers Contractuels      3  \n",
       "2019-09-30     Dossiers Prestations      2  \n",
       "2019-03-27  Dossiers Administratifs      1  \n",
       "2019-02-28  Dossiers Administratifs      2  \n",
       "2018-09-11      Dossiers Prévoyance      1  \n",
       "...                             ...    ...  \n",
       "2019-06-27     Dossiers Prestations     38  \n",
       "2019-08-30           Dossiers Devis      1  \n",
       "2019-10-24             Dossiers EDI      3  \n",
       "2018-09-12           Dossiers Devis      1  \n",
       "2020-05-22             Dossiers EDI      1  \n",
       "\n",
       "[62955 rows x 9 columns]"
      ]
     },
     "execution_count": 35,
     "metadata": {},
     "output_type": "execute_result"
    }
   ],
   "source": [
    "df_filter"
   ]
  },
  {
   "cell_type": "markdown",
   "metadata": {},
   "source": [
    "### Create Aggregated Df with DatTime Index"
   ]
  },
  {
   "cell_type": "code",
   "execution_count": 37,
   "metadata": {},
   "outputs": [],
   "source": [
    "df2 = df_filter.groupby('DATEDATA').sum()\n",
    "df2 = df2.asfreq(freq='B')"
   ]
  },
  {
   "cell_type": "code",
   "execution_count": 39,
   "metadata": {},
   "outputs": [
    {
     "data": {
      "text/plain": [
       "DatetimeIndex(['2018-08-01', '2018-08-02', '2018-08-03', '2018-08-06',\n",
       "               '2018-08-07', '2018-08-08', '2018-08-09', '2018-08-10',\n",
       "               '2018-08-13', '2018-08-14',\n",
       "               ...\n",
       "               '2020-06-10', '2020-06-11', '2020-06-12', '2020-06-15',\n",
       "               '2020-06-16', '2020-06-17', '2020-06-18', '2020-06-19',\n",
       "               '2020-06-22', '2020-06-23'],\n",
       "              dtype='datetime64[ns]', name='DATEDATA', length=495, freq='B')"
      ]
     },
     "execution_count": 39,
     "metadata": {},
     "output_type": "execute_result"
    }
   ],
   "source": [
    "df2.index"
   ]
  },
  {
   "cell_type": "markdown",
   "metadata": {},
   "source": [
    "### Split in train test to compare with predictions"
   ]
  },
  {
   "cell_type": "code",
   "execution_count": null,
   "metadata": {},
   "outputs": [],
   "source": [
    "from scipy.stats import boxcox\n",
    "\n",
    "df3, l = boxcox(df2['TOTAL'])"
   ]
  },
  {
   "cell_type": "code",
   "execution_count": null,
   "metadata": {},
   "outputs": [],
   "source": [
    "l"
   ]
  },
  {
   "cell_type": "code",
   "execution_count": null,
   "metadata": {},
   "outputs": [],
   "source": [
    "df2['TOTAL']=df3"
   ]
  },
  {
   "cell_type": "code",
   "execution_count": null,
   "metadata": {},
   "outputs": [],
   "source": [
    "train = df2[df2.index<'2019-10-01']\n",
    "test = df2[df2.index>='2019-10-01']"
   ]
  },
  {
   "cell_type": "code",
   "execution_count": null,
   "metadata": {},
   "outputs": [],
   "source": [
    "plt.rcParams['figure.figsize'] = [8, 5]\n",
    "train.plot();"
   ]
  },
  {
   "cell_type": "code",
   "execution_count": null,
   "metadata": {},
   "outputs": [],
   "source": [
    "train.info()"
   ]
  },
  {
   "cell_type": "markdown",
   "metadata": {},
   "source": [
    "### Decompose"
   ]
  },
  {
   "cell_type": "code",
   "execution_count": null,
   "metadata": {},
   "outputs": [],
   "source": [
    "from statsmodels.tsa.seasonal import seasonal_decompose\n",
    "res = seasonal_decompose(train.TOTAL.interpolate(),period=5, model='additive')\n",
    "\n",
    "# resplot = res.plot()\n",
    "\n",
    "fig, (ax0,ax1,ax2,ax3) = plt.subplots(4,1, figsize=(20,8))\n",
    "ax0.set_ylabel('TOTobAL')\n",
    "ax1.set_ylabel('TREND')\n",
    "ax2.set_ylabel('SEASONAL')\n",
    "ax3.set_ylabel('RESIDUALS')\n",
    "\n",
    "\n",
    "res.observed.plot(ax=ax0);\n",
    "res.trend.plot(ax=ax1);\n",
    "res.seasonal.plot(ax=ax2);\n",
    "res.resid.plot(ax=ax3);"
   ]
  },
  {
   "cell_type": "code",
   "execution_count": null,
   "metadata": {},
   "outputs": [],
   "source": [
    "res.observed[:10]"
   ]
  },
  {
   "cell_type": "code",
   "execution_count": null,
   "metadata": {},
   "outputs": [],
   "source": [
    "plt.plot(res.observed[:10])"
   ]
  },
  {
   "cell_type": "code",
   "execution_count": null,
   "metadata": {},
   "outputs": [],
   "source": [
    "plt.plot(train.TOTAL[:10])"
   ]
  },
  {
   "cell_type": "markdown",
   "metadata": {},
   "source": [
    "### ACF / PACF"
   ]
  },
  {
   "cell_type": "code",
   "execution_count": null,
   "metadata": {},
   "outputs": [],
   "source": [
    "from statsmodels.graphics.tsaplots import plot_acf, plot_pacf\n",
    "plt.rcParams['figure.figsize'] = [8, 5]\n",
    "plot_acf(res.observed, zero=False);\n",
    "plot_pacf(res.observed, zero=False);"
   ]
  },
  {
   "cell_type": "markdown",
   "metadata": {},
   "source": [
    "Shows a linear trend in ACF --> differentiate"
   ]
  },
  {
   "cell_type": "code",
   "execution_count": null,
   "metadata": {},
   "outputs": [],
   "source": [
    "traindiff = train.diff(periods=5)[5:]"
   ]
  },
  {
   "cell_type": "code",
   "execution_count": null,
   "metadata": {},
   "outputs": [],
   "source": [
    "res = seasonal_decompose(traindiff.TOTAL.interpolate(),period=5, model='additive')"
   ]
  },
  {
   "cell_type": "code",
   "execution_count": null,
   "metadata": {},
   "outputs": [],
   "source": [
    "plt.rcParams['figure.figsize'] = [8, 5]\n",
    "plot_acf(res.observed,zero=False);\n",
    "plot_pacf(res.observed,zero=False);"
   ]
  },
  {
   "cell_type": "markdown",
   "metadata": {},
   "source": [
    "order one diff seems ok"
   ]
  },
  {
   "cell_type": "code",
   "execution_count": null,
   "metadata": {},
   "outputs": [],
   "source": [
    "from statsmodels.tsa.statespace.sarimax import SARIMAX"
   ]
  },
  {
   "cell_type": "markdown",
   "metadata": {},
   "source": [
    "### Create SARIMA model"
   ]
  },
  {
   "cell_type": "code",
   "execution_count": null,
   "metadata": {},
   "outputs": [],
   "source": [
    "from statsmodels.tsa.x13 import x13_arima_select_order"
   ]
  },
  {
   "cell_type": "code",
   "execution_count": null,
   "metadata": {},
   "outputs": [],
   "source": [
    "myorder = (2,1,2)\n",
    "myorder_season = (0,1,1,5)"
   ]
  },
  {
   "cell_type": "code",
   "execution_count": null,
   "metadata": {},
   "outputs": [],
   "source": [
    "model = SARIMAX(train, order=myorder, seasonal_order=myorder_season)\n",
    "modfit = model.fit()"
   ]
  },
  {
   "cell_type": "code",
   "execution_count": null,
   "metadata": {},
   "outputs": [],
   "source": [
    "plt.rcParams['figure.figsize'] = [8, 5]\n",
    "plt.plot(modfit.resid);\n",
    "plot_acf(modfit.resid,zero=False);\n",
    "plot_pacf(modfit.resid,zero=False);\n",
    "# plt.hist(modfit.resid)"
   ]
  },
  {
   "cell_type": "code",
   "execution_count": null,
   "metadata": {},
   "outputs": [],
   "source": [
    "\n",
    "plt.rcParams['figure.figsize'] = [15, 10]\n",
    "modfit.plot_diagnostics();\n"
   ]
  },
  {
   "cell_type": "code",
   "execution_count": null,
   "metadata": {},
   "outputs": [],
   "source": [
    "from statsmodels.stats.diagnostic import acorr_ljungbox\n",
    "\n",
    "acorr_ljungbox(modfit.resid,lags=None,period=5,return_df=True, boxpierce=True )"
   ]
  },
  {
   "cell_type": "code",
   "execution_count": null,
   "metadata": {},
   "outputs": [],
   "source": [
    "modfit.resid"
   ]
  },
  {
   "cell_type": "code",
   "execution_count": null,
   "metadata": {},
   "outputs": [],
   "source": [
    "# RMSE\n",
    "import math\n",
    "math.sqrt(modfit.sse)"
   ]
  },
  {
   "cell_type": "code",
   "execution_count": null,
   "metadata": {},
   "outputs": [],
   "source": [
    "pred = modfit.predict('2019-10-01','2019-12-31')\n",
    "pred"
   ]
  },
  {
   "cell_type": "code",
   "execution_count": null,
   "metadata": {},
   "outputs": [],
   "source": [
    "graph = train.copy()\n",
    "test=test.rename(columns={'TOTAL':'TEST'})\n",
    "graph = graph.append(test)\n",
    "graph['pred'] = pred"
   ]
  },
  {
   "cell_type": "code",
   "execution_count": null,
   "metadata": {},
   "outputs": [],
   "source": [
    "graph"
   ]
  },
  {
   "cell_type": "code",
   "execution_count": null,
   "metadata": {},
   "outputs": [],
   "source": [
    "# Zoom\n",
    "graphend = graph[graph.index>'2019-05-01']"
   ]
  },
  {
   "cell_type": "code",
   "execution_count": null,
   "metadata": {},
   "outputs": [],
   "source": [
    "fig = plt.figure(figsize=(15,10))\n",
    "plt.plot(graphend);"
   ]
  },
  {
   "cell_type": "code",
   "execution_count": null,
   "metadata": {},
   "outputs": [],
   "source": []
  },
  {
   "cell_type": "code",
   "execution_count": null,
   "metadata": {},
   "outputs": [],
   "source": []
  },
  {
   "cell_type": "code",
   "execution_count": null,
   "metadata": {},
   "outputs": [],
   "source": []
  },
  {
   "cell_type": "code",
   "execution_count": null,
   "metadata": {},
   "outputs": [],
   "source": []
  },
  {
   "cell_type": "code",
   "execution_count": null,
   "metadata": {},
   "outputs": [],
   "source": [
    "from statsmodels.tsa.holtwinters import ExponentialSmoothing\n",
    "\n",
    "mod = ExponentialSmoothing(train,trend=\"add\",damped=True).fit(use_boxcox=True, remove_bias=True)"
   ]
  },
  {
   "cell_type": "code",
   "execution_count": null,
   "metadata": {},
   "outputs": [],
   "source": [
    "mod.params"
   ]
  },
  {
   "cell_type": "code",
   "execution_count": null,
   "metadata": {},
   "outputs": [],
   "source": [
    "mod.forecast(22)"
   ]
  },
  {
   "cell_type": "code",
   "execution_count": null,
   "metadata": {},
   "outputs": [],
   "source": []
  }
 ],
 "metadata": {
  "kernelspec": {
   "display_name": "time-serie",
   "language": "python",
   "name": "time-serie"
  },
  "language_info": {
   "codemirror_mode": {
    "name": "ipython",
    "version": 3
   },
   "file_extension": ".py",
   "mimetype": "text/x-python",
   "name": "python",
   "nbconvert_exporter": "python",
   "pygments_lexer": "ipython3",
   "version": "3.7.7"
  }
 },
 "nbformat": 4,
 "nbformat_minor": 4
}
